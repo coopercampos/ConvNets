{
  "nbformat": 4,
  "nbformat_minor": 0,
  "metadata": {
    "colab": {
      "provenance": [],
      "gpuType": "T4"
    },
    "kernelspec": {
      "name": "python3",
      "display_name": "Python 3"
    },
    "language_info": {
      "name": "python"
    },
    "accelerator": "GPU"
  },
  "cells": [
    {
      "cell_type": "markdown",
      "source": [
        "## CNN utilizando o dataset Fashion-Mnist\n",
        "Este código é para fins de aprendizado, então vou colocar algumas explicações que achei interessantes e relevantes para entender melhor o que está sendo feito."
      ],
      "metadata": {
        "id": "K3AzGdZ1wnPy"
      }
    },
    {
      "cell_type": "code",
      "source": [
        "!pip3 install torch torchvision"
      ],
      "metadata": {
        "colab": {
          "base_uri": "https://localhost:8080/",
          "height": 0
        },
        "id": "mbhdoxv30bDQ",
        "outputId": "a85cd813-cecd-498b-d7c1-87c3ccd917df"
      },
      "execution_count": 1,
      "outputs": [
        {
          "output_type": "stream",
          "name": "stdout",
          "text": [
            "Requirement already satisfied: torch in /usr/local/lib/python3.10/dist-packages (2.1.0+cu118)\n",
            "Requirement already satisfied: torchvision in /usr/local/lib/python3.10/dist-packages (0.16.0+cu118)\n",
            "Requirement already satisfied: filelock in /usr/local/lib/python3.10/dist-packages (from torch) (3.13.1)\n",
            "Requirement already satisfied: typing-extensions in /usr/local/lib/python3.10/dist-packages (from torch) (4.5.0)\n",
            "Requirement already satisfied: sympy in /usr/local/lib/python3.10/dist-packages (from torch) (1.12)\n",
            "Requirement already satisfied: networkx in /usr/local/lib/python3.10/dist-packages (from torch) (3.2.1)\n",
            "Requirement already satisfied: jinja2 in /usr/local/lib/python3.10/dist-packages (from torch) (3.1.2)\n",
            "Requirement already satisfied: fsspec in /usr/local/lib/python3.10/dist-packages (from torch) (2023.6.0)\n",
            "Requirement already satisfied: triton==2.1.0 in /usr/local/lib/python3.10/dist-packages (from torch) (2.1.0)\n",
            "Requirement already satisfied: numpy in /usr/local/lib/python3.10/dist-packages (from torchvision) (1.23.5)\n",
            "Requirement already satisfied: requests in /usr/local/lib/python3.10/dist-packages (from torchvision) (2.31.0)\n",
            "Requirement already satisfied: pillow!=8.3.*,>=5.3.0 in /usr/local/lib/python3.10/dist-packages (from torchvision) (9.4.0)\n",
            "Requirement already satisfied: MarkupSafe>=2.0 in /usr/local/lib/python3.10/dist-packages (from jinja2->torch) (2.1.3)\n",
            "Requirement already satisfied: charset-normalizer<4,>=2 in /usr/local/lib/python3.10/dist-packages (from requests->torchvision) (3.3.2)\n",
            "Requirement already satisfied: idna<4,>=2.5 in /usr/local/lib/python3.10/dist-packages (from requests->torchvision) (3.6)\n",
            "Requirement already satisfied: urllib3<3,>=1.21.1 in /usr/local/lib/python3.10/dist-packages (from requests->torchvision) (2.0.7)\n",
            "Requirement already satisfied: certifi>=2017.4.17 in /usr/local/lib/python3.10/dist-packages (from requests->torchvision) (2023.11.17)\n",
            "Requirement already satisfied: mpmath>=0.19 in /usr/local/lib/python3.10/dist-packages (from sympy->torch) (1.3.0)\n"
          ]
        }
      ]
    },
    {
      "cell_type": "markdown",
      "source": [
        "## Carregando o Conjunto de Dados\n",
        "\n",
        "Aqui está um exemplo de como carregar o [Fashion-MNIST](https://research.zalando.com/project/fashion_mnist/fashion_mnist/) dataset do TorchVision.\n",
        "O Fashion-MNIST é um conjunto de imagens de artigos da Zalando, consistindo de 60.000 exemplos de treinamento e 10.000 exemplos de teste.\n",
        "Cada exemplo é composto por uma imagem em tons de cinza de 28×28 pixels e um rótulo associado a uma das 10 classes.\n",
        "\n",
        "Nós carregamos o [FashionMNIST Dataset](https://pytorch.org/vision/stable/datasets.html#fashion-mnist) com os seguintes parâmetros:\n",
        " - ``root`` é o caminho onde os dados de treino/teste estão armazenados,\n",
        " - ``train`` especifica se é o conjunto de dados de treino ou teste,\n",
        " - ``download=True`` baixa os dados da internet se não estiverem disponíveis em ``root``.\n",
        " - ``transform`` e ``target_transform`` especificam as transformações das características e rótulos"
      ],
      "metadata": {
        "id": "izjzy35HOIiX"
      }
    },
    {
      "cell_type": "code",
      "source": [
        "import torch\n",
        "from torch import nn\n",
        "from torch.utils.data import Dataset\n",
        "from torchvision import datasets\n",
        "from torchvision.transforms import ToTensor\n",
        "import matplotlib.pyplot as plt\n",
        "\n",
        "import time\n",
        "import copy\n",
        "import numpy as np\n",
        "import pandas as pd\n",
        "import matplotlib.pyplot as plt\n",
        "from sklearn.model_selection import train_test_split\n",
        "\n",
        "import torch\n",
        "import torchvision\n",
        "import torch.nn as nn\n",
        "import torch.optim as optim\n",
        "import torchvision.transforms as transforms\n",
        "from torch.utils.data import Dataset, DataLoader, ConcatDataset\n",
        "\n",
        "torch.manual_seed(17)\n",
        "training_data = datasets.FashionMNIST(\n",
        "    root=\"data\",\n",
        "    train=True,\n",
        "    download=True,\n",
        "    transform=ToTensor()\n",
        ")\n",
        "\n",
        "test_data = datasets.FashionMNIST(\n",
        "    root=\"data\",\n",
        "    train=False,\n",
        "    download=True,\n",
        "    transform=ToTensor()\n",
        ")"
      ],
      "metadata": {
        "colab": {
          "base_uri": "https://localhost:8080/",
          "height": 0
        },
        "id": "7_aPYMczOlHl",
        "outputId": "a04380c2-e5ab-4081-e37d-28a4d42d52a5"
      },
      "execution_count": 2,
      "outputs": [
        {
          "output_type": "stream",
          "name": "stdout",
          "text": [
            "Downloading http://fashion-mnist.s3-website.eu-central-1.amazonaws.com/train-images-idx3-ubyte.gz\n",
            "Downloading http://fashion-mnist.s3-website.eu-central-1.amazonaws.com/train-images-idx3-ubyte.gz to data/FashionMNIST/raw/train-images-idx3-ubyte.gz\n"
          ]
        },
        {
          "output_type": "stream",
          "name": "stderr",
          "text": [
            "100%|██████████| 26421880/26421880 [00:02<00:00, 11738135.99it/s]\n"
          ]
        },
        {
          "output_type": "stream",
          "name": "stdout",
          "text": [
            "Extracting data/FashionMNIST/raw/train-images-idx3-ubyte.gz to data/FashionMNIST/raw\n",
            "\n",
            "Downloading http://fashion-mnist.s3-website.eu-central-1.amazonaws.com/train-labels-idx1-ubyte.gz\n",
            "Downloading http://fashion-mnist.s3-website.eu-central-1.amazonaws.com/train-labels-idx1-ubyte.gz to data/FashionMNIST/raw/train-labels-idx1-ubyte.gz\n"
          ]
        },
        {
          "output_type": "stream",
          "name": "stderr",
          "text": [
            "100%|██████████| 29515/29515 [00:00<00:00, 173423.24it/s]\n"
          ]
        },
        {
          "output_type": "stream",
          "name": "stdout",
          "text": [
            "Extracting data/FashionMNIST/raw/train-labels-idx1-ubyte.gz to data/FashionMNIST/raw\n",
            "\n",
            "Downloading http://fashion-mnist.s3-website.eu-central-1.amazonaws.com/t10k-images-idx3-ubyte.gz\n",
            "Downloading http://fashion-mnist.s3-website.eu-central-1.amazonaws.com/t10k-images-idx3-ubyte.gz to data/FashionMNIST/raw/t10k-images-idx3-ubyte.gz\n"
          ]
        },
        {
          "output_type": "stream",
          "name": "stderr",
          "text": [
            "100%|██████████| 4422102/4422102 [00:01<00:00, 3178355.53it/s]\n"
          ]
        },
        {
          "output_type": "stream",
          "name": "stdout",
          "text": [
            "Extracting data/FashionMNIST/raw/t10k-images-idx3-ubyte.gz to data/FashionMNIST/raw\n",
            "\n",
            "Downloading http://fashion-mnist.s3-website.eu-central-1.amazonaws.com/t10k-labels-idx1-ubyte.gz\n",
            "Downloading http://fashion-mnist.s3-website.eu-central-1.amazonaws.com/t10k-labels-idx1-ubyte.gz to data/FashionMNIST/raw/t10k-labels-idx1-ubyte.gz\n"
          ]
        },
        {
          "output_type": "stream",
          "name": "stderr",
          "text": [
            "100%|██████████| 5148/5148 [00:00<00:00, 4614720.45it/s]"
          ]
        },
        {
          "output_type": "stream",
          "name": "stdout",
          "text": [
            "Extracting data/FashionMNIST/raw/t10k-labels-idx1-ubyte.gz to data/FashionMNIST/raw\n",
            "\n"
          ]
        },
        {
          "output_type": "stream",
          "name": "stderr",
          "text": [
            "\n"
          ]
        }
      ]
    },
    {
      "cell_type": "markdown",
      "source": [
        "## Iterando e Visualizando o Conjunto de Dados\n",
        "\n",
        "Podemos indexar os ``Datasets`` manualmente como uma lista: ``training_data[index]``.\n",
        "Usamos o ``matplotlib`` para visualizar algumas amostras em nossos dados de treinamento."
      ],
      "metadata": {
        "id": "e8068occHqIy"
      }
    },
    {
      "cell_type": "code",
      "source": [
        "import matplotlib.pyplot as plt\n",
        "\n",
        "labels_map={\n",
        "    0: 'T-shirt',\n",
        "    1: 'Trouser',\n",
        "    2: 'Pullover',\n",
        "    3: 'Dress',\n",
        "    4: 'Coat',\n",
        "    5: 'Sandal',\n",
        "    6: 'Shirt',\n",
        "    7: 'Sneaker',\n",
        "    8: 'Bag',\n",
        "    9: 'Ankle Boot',\n",
        "}\n",
        "\n",
        "figure = plt.figure(figsize = (10,10))\n",
        "cols, rows = 3, 3\n",
        "\n",
        "for i in range (1, cols*rows + 1):  # realizará o plot de 9 imagens, com 3 imagens por linha (3 linhas)\n",
        "    sample_idx = torch.randint(len(training_data), size = (1,)).item() #Essa linha de código cria um índice aleatório para acessar um exemplo aleatório do conjunto de dados de treinamento.\n",
        "    image, label = training_data[sample_idx]  #cada item dos dados de treino contem o tensor que representa a imagem, e a classificação da imagem (das 10 definidas na labels_map)\n",
        "    figure.add_subplot(rows, cols, i)\n",
        "    plt.title(labels_map[label])\n",
        "    plt.axis('off')\n",
        "    plt.imshow(image.squeeze(), cmap='gray')\n",
        "plt.show()"
      ],
      "metadata": {
        "colab": {
          "base_uri": "https://localhost:8080/",
          "height": 829
        },
        "id": "Z-K_pDI_zAZu",
        "outputId": "7449bd8a-08b7-4ad9-82f7-4bc44bfb8826"
      },
      "execution_count": 3,
      "outputs": [
        {
          "output_type": "display_data",
          "data": {
            "text/plain": [
              "<Figure size 1000x1000 with 9 Axes>"
            ],
            "image/png": "[encoded data removed]"
          },
          "metadata": {}
        }
      ]
    },
    {
      "cell_type": "markdown",
      "source": [
        "## Preparando os dados para treinamento com DataLoaders\n",
        "O ``Dataset`` recupera as características e rótulos do nosso conjunto de dados um exemplo de cada vez. Ao treinar um modelo, normalmente queremos passar amostras em \"minibatches\", reorganizar (shuffle) os dados a cada época para reduzir o overfitting do modelo e usar o ``multiprocessing`` do Python para acelerar a recuperação de dados.\n",
        "\n",
        "``DataLoader`` é um iterável que abstrai essa complexidade para nós em uma API fácil.\n",
        "\n",
        "\n",
        "\n",
        "\n",
        "\n"
      ],
      "metadata": {
        "id": "klnWX3DpeUMb"
      }
    },
    {
      "cell_type": "code",
      "source": [
        "\n",
        "train_dataloader = DataLoader(training_data, batch_size=64, shuffle=True)\n",
        "test_dataloader = DataLoader(test_data, batch_size=64, shuffle=True)"
      ],
      "metadata": {
        "id": "8ww3ZA1a1wd6"
      },
      "execution_count": 4,
      "outputs": []
    },
    {
      "cell_type": "code",
      "source": [],
      "metadata": {
        "id": "8Ge5gJbCQbCF"
      },
      "execution_count": null,
      "outputs": []
    },
    {
      "cell_type": "markdown",
      "source": [
        "## Iterar através do DataLoader\n",
        "\n",
        "Nós carregamos o conjunto de dados no ``DataLoader`` e podemos iterar pelo conjunto de dados conforme necessário.\n",
        "Cada iteração abaixo retorna um conjunto de ``train_features`` e ``train_labels`` (contendo respectivamente ``batch_size=64`` *features* e rótulos).\n",
        "Porque especificamos ``shuffle=True``, depois de iterar por todos os batches os dados são embaralhados (para um controle mais detalhado sobre a ordem de carregamento dos dados, dê uma olhada nos [Samplers](https://pytorch.org/docs/stable/data.html#data-loading-order-and-sampler))."
      ],
      "metadata": {
        "id": "9SqpDMrWe-Wv"
      }
    },
    {
      "cell_type": "code",
      "source": [
        "# Display image and label.\n",
        "train_features, train_labels = next(iter(train_dataloader)) #permite acessar um único batch de dados de treinamento, este batch tem 64 features em conjunto com suas respectivas 'labels'\n",
        "print(f\"Feature batch shape: {train_features.size()}\")\n",
        "print(f\"Labels batch shape: {train_labels.size()}\")\n",
        "img = train_features[3].squeeze()  #qualquer numero de 0 a 63 retorna uma imagem com seu respectivo rótulo, pode testar.\n",
        "label = train_labels[3]\n",
        "plt.imshow(img, cmap=\"gray\")\n",
        "plt.show()\n",
        "print(f\"Label: {labels_map[int(label)]}\")"
      ],
      "metadata": {
        "colab": {
          "base_uri": "https://localhost:8080/",
          "height": 482
        },
        "id": "7xdgyUzte--r",
        "outputId": "fabf077c-8ca5-4e74-e214-97fa44a3e53c"
      },
      "execution_count": 5,
      "outputs": [
        {
          "output_type": "stream",
          "name": "stdout",
          "text": [
            "Feature batch shape: torch.Size([64, 1, 28, 28])\n",
            "Labels batch shape: torch.Size([64])\n"
          ]
        },
        {
          "output_type": "display_data",
          "data": {
            "text/plain": [
              "<Figure size 640x480 with 1 Axes>"
            ],
            "image/png": "[encoded data removed]"
          },
          "metadata": {}
        },
        {
          "output_type": "stream",
          "name": "stdout",
          "text": [
            "Label: Trouser\n"
          ]
        }
      ]
    },
    {
      "cell_type": "markdown",
      "source": [
        "## Criando o Modelo\n",
        "O básico para se criar um modelo de rede neural convolucional pode ser encontrado neste link:\n",
        "https://pytorch.org/tutorials/beginner/basics/buildmodel_tutorial.html\n",
        "\n",
        "\n",
        "Para definir uma rede convolucional no PyTorch, criamos uma classe que herda de ``nn.Module``. As camadas da rede são então definidas dentro da função ``init`` e especificam como os dados passarão pela rede na função ``forward``. Se a GPU estiver disponível, movemos a rede para lá para acelerar as operações na rede neural.\n",
        "\n",
        "Mais detalhes sobre como cada camada funciona no link:\n",
        "https://pytorch.org/docs/stable/nn.html\n"
      ],
      "metadata": {
        "id": "S-9i1pYbicsJ"
      }
    },
    {
      "cell_type": "markdown",
      "source": [
        "Nosso teste será com o modelo da ***Resnet 18***, que tem boa eficiência em questões de número de parâmetros, operações e acurácia. Vamos ver como esse modelo se sai para a *Fashion Mnist*.\n"
      ],
      "metadata": {
        "id": "W1oIWrN79Bz9"
      }
    },
    {
      "cell_type": "code",
      "source": [
        "#define the device to use\n",
        "device = torch.device(\"cuda:0\" if torch.cuda.is_available() else \"cpu\")\n",
        "device"
      ],
      "metadata": {
        "colab": {
          "base_uri": "https://localhost:8080/",
          "height": 0
        },
        "id": "jYcRCs2zdDX9",
        "outputId": "6dbdf40e-26ef-4698-f7ae-1fbf856a4c0f"
      },
      "execution_count": 6,
      "outputs": [
        {
          "output_type": "execute_result",
          "data": {
            "text/plain": [
              "device(type='cuda', index=0)"
            ]
          },
          "metadata": {},
          "execution_count": 6
        }
      ]
    },
    {
      "cell_type": "markdown",
      "source": [
        "\n",
        "\n",
        "1.   Definimos um bloco básico de construção da ResNet18. Ele difere um pouco das arquiteturas maiores da ResNet, mas a lógica geral é a mesma. O bloco consiste em duas camadas convolucionais e suporta *skip connections*.\n",
        "\n"
      ],
      "metadata": {
        "id": "U1Gb9H5LMuRr"
      }
    },
    {
      "cell_type": "code",
      "source": [
        "class Block(nn.Module):\n",
        "\n",
        "    def __init__(self, in_channels, out_channels, identity_downsample=None, stride=1):\n",
        "        super(Block, self).__init__()\n",
        "        self.conv1 = nn.Conv2d(in_channels, out_channels, kernel_size=3, stride=stride, padding=1)\n",
        "        self.bn1 = nn.BatchNorm2d(out_channels)\n",
        "        self.conv2 = nn.Conv2d(out_channels, out_channels, kernel_size=3, stride=1, padding=1)\n",
        "        self.bn2 = nn.BatchNorm2d(out_channels)\n",
        "        self.relu = nn.ReLU()\n",
        "        self.identity_downsample = identity_downsample\n",
        "\n",
        "    def forward(self, x):\n",
        "        identity = x\n",
        "        x = self.conv1(x)\n",
        "        x = self.bn1(x)\n",
        "        x = self.relu(x)\n",
        "        x = self.conv2(x)\n",
        "        x = self.bn2(x)\n",
        "        # Na classe do modelo para a resnet 18 ficará claro este trecho do código, que é a peça fundamental para as skip connections.\n",
        "        if self.identity_downsample is not None:\n",
        "            identity = self.identity_downsample(identity)\n",
        "        x += identity\n",
        "        x = self.relu(x)\n",
        "        return x"
      ],
      "metadata": {
        "id": "9Rpg_ialfV2D"
      },
      "execution_count": 7,
      "outputs": []
    },
    {
      "cell_type": "markdown",
      "source": [
        "2.   Definimos a arquitetura principal para a ResNet18. Como já foi  visto, temos inicialmente uma camada convolucional simples, e quatro **blocos residuais** definidos pela classe feita anteriormente. No final, usamos um *adaptative average pooling* (para o modelo ser agnóstico ao tamanho da imagem de entrada) e uma camada *fully connected*."
      ],
      "metadata": {
        "id": "M7KWaZHONTGG"
      }
    },
    {
      "cell_type": "code",
      "source": [
        "class ResNet_18(nn.Module):\n",
        "\n",
        "    def __init__(self, image_channels, num_classes):\n",
        "\n",
        "        super(ResNet_18, self).__init__()\n",
        "        self.in_channels = 64\n",
        "        self.conv1 = nn.Conv2d(image_channels, 64, kernel_size=7, stride=2, padding=3) #no nosso caso as imagens tem apenas 1 canal\n",
        "        self.bn1 = nn.BatchNorm2d(64) #normaliza nosso batch, teoricamente isso nos ajuda a executar o treinamento dos parâmetros\n",
        "        self.relu = nn.ReLU()\n",
        "        self.maxpool = nn.MaxPool2d(kernel_size=3, stride=2, padding=1)\n",
        "\n",
        "        #resnet layers\n",
        "        self.layer1 = self.__make_layer(64, 64, stride=1) #qtd de canais de entrada, qtd de canais de saida, e stride dessa operação\n",
        "        self.layer2 = self.__make_layer(64, 128, stride=2)\n",
        "        self.layer3 = self.__make_layer(128, 256, stride=2)\n",
        "        self.layer4 = self.__make_layer(256, 512, stride=2)\n",
        "\n",
        "        self.avgpool = nn.AdaptiveAvgPool2d((1, 1))\n",
        "        self.fc = nn.Linear(512, num_classes)\n",
        "\n",
        "    def __make_layer(self, in_channels, out_channels, stride):\n",
        "\n",
        "        identity_downsample = None\n",
        "        if stride != 1:   # Se o stride for diferente de 1, isto implica na mudança de dimensões entre uma camada e outra.\n",
        "            identity_downsample = self.identity_downsample(in_channels, out_channels)\n",
        "             # a função identity_downsample é chamada para criar a skip connection ajustando\n",
        "             #as dimensões do tensor de entrada para que possa ser somado ao tensor de saída\n",
        "             #do bloco convolucional de forma correta.\n",
        "\n",
        "        return nn.Sequential(\n",
        "            Block(in_channels, out_channels, identity_downsample=identity_downsample, stride=stride),\n",
        "            Block(out_channels, out_channels)\n",
        "        )\n",
        "\n",
        "    def forward(self, x):\n",
        "\n",
        "        x = self.conv1(x)\n",
        "        x = self.bn1(x)\n",
        "        x = self.relu(x)\n",
        "        x = self.maxpool(x)\n",
        "\n",
        "        x = self.layer1(x)\n",
        "        x = self.layer2(x)\n",
        "        x = self.layer3(x)\n",
        "        x = self.layer4(x)\n",
        "\n",
        "        x = self.avgpool(x)\n",
        "        x = x.view(x.shape[0], -1)\n",
        "        x = self.fc(x)  # retorna um tensor com o numero de classes definido pro modelo\n",
        "        return x\n",
        "\n",
        "    def identity_downsample(self, in_channels, out_channels):\n",
        "    # A função identity_downsample é uma sequência de camadas convolucionais e de normalização que\n",
        "    #ajustam as dimensões espaciais do tensor de entrada para que correspondam às dimensões do tensor\n",
        "    #de saída do bloco convolucional. Ela faz o ajuste das dimensões\n",
        "    #diminuindo pela metade a largura e a altura (devido ao stride=2) e dobra o número de canais\n",
        "    #para corresponder ao canal de saída.\n",
        "\n",
        "        return nn.Sequential(\n",
        "            nn.Conv2d(in_channels, out_channels, kernel_size=3, stride=2, padding=1),\n",
        "            nn.BatchNorm2d(out_channels)\n",
        "        )"
      ],
      "metadata": {
        "id": "SmdDPz587kqs"
      },
      "execution_count": 8,
      "outputs": []
    },
    {
      "cell_type": "markdown",
      "source": [
        "3.   Criamos o modelo com 1 canal de imagem (nosso caso para o *Fashion Mnist*, e 10 classes diferentes."
      ],
      "metadata": {
        "id": "C-0QRJOHBxXQ"
      }
    },
    {
      "cell_type": "code",
      "source": [
        "model = ResNet_18(1, 10)\n",
        "\n",
        "#parametros treinaveis do modelo:\n",
        "def count_parameters(model):\n",
        "    return sum(p.numel() for p in model.parameters() if p.requires_grad)\n",
        "\n",
        "count_parameters(model)"
      ],
      "metadata": {
        "colab": {
          "base_uri": "https://localhost:8080/",
          "height": 0
        },
        "id": "jhVfJR_RbcSp",
        "outputId": "be279135-5b62-48cc-e6d3-4d270015fbb7"
      },
      "execution_count": 9,
      "outputs": [
        {
          "output_type": "execute_result",
          "data": {
            "text/plain": [
              "12556426"
            ]
          },
          "metadata": {},
          "execution_count": 9
        }
      ]
    },
    {
      "cell_type": "code",
      "source": [
        "#move the model to the device\n",
        "model.to(device)\n",
        "next(model.parameters()).is_cuda"
      ],
      "metadata": {
        "colab": {
          "base_uri": "https://localhost:8080/",
          "height": 0
        },
        "id": "yNims1yhcu-p",
        "outputId": "2dbca1a7-f4c8-4257-cfa9-e4a2dbc3dfd1"
      },
      "execution_count": 10,
      "outputs": [
        {
          "output_type": "execute_result",
          "data": {
            "text/plain": [
              "True"
            ]
          },
          "metadata": {},
          "execution_count": 10
        }
      ]
    },
    {
      "cell_type": "markdown",
      "source": [
        "4.   Chegou a hora de treinar a rede, definimos tudo o que precisamos e aplicamos na função de validação e treino do nosso modelo."
      ],
      "metadata": {
        "id": "EikyKTPTCMZd"
      }
    },
    {
      "cell_type": "code",
      "source": [
        "from torch import optim\n",
        "#definindo tudo que precisamos para o treino da resnet\n",
        "epochs = 50\n",
        "criterion = nn.CrossEntropyLoss()\n",
        "optimizer = optim.Adam(model.parameters(), lr=0.0001, weight_decay=1e-4)\n",
        "lr_scheduler = optim.lr_scheduler.ReduceLROnPlateau(optimizer, patience=5, verbose=True)  # útil para ajustar automaticamente a taxa de aprendizado durante o treinamento"
      ],
      "metadata": {
        "id": "zMmT7vMudfAp"
      },
      "execution_count": 14,
      "outputs": []
    },
    {
      "cell_type": "code",
      "source": [
        "\n",
        "\n",
        "def train_model(model, dataloaders, criterion, optimizer, num_epochs=50, is_inception=False):\n",
        "\n",
        "    since = time.time()\n",
        "    val_acc_history = []\n",
        "    best_model_wts = copy.deepcopy(model.state_dict())\n",
        "    best_acc = 0.0\n",
        "\n",
        "    for epoch in range(num_epochs):\n",
        "        print('Epoch {}/{}'.format(epoch, num_epochs - 1))\n",
        "        print('-' * 10)\n",
        "\n",
        "        for phase in ['train', 'val']: # Each epoch has a training and validation phase\n",
        "            if phase == 'train':\n",
        "                model.train()  # Set model to training mode\n",
        "            else:\n",
        "                model.eval()   # Set model to evaluate mode\n",
        "\n",
        "            running_loss = 0.0\n",
        "            running_corrects = 0\n",
        "\n",
        "            for inputs, labels in dataloaders[phase]: # Iterate over data\n",
        "\n",
        "                inputs = transforms.functional.resize(inputs, (112, 112))\n",
        "                inputs = inputs.to(device)\n",
        "\n",
        "                labels = labels.to(device)\n",
        "\n",
        "                optimizer.zero_grad() # Zero the parameter gradients\n",
        "\n",
        "                with torch.set_grad_enabled(phase == 'train'): # Forward. Track history if only in train\n",
        "\n",
        "                    outputs = model(inputs)\n",
        "                    loss = criterion(outputs, labels)\n",
        "                    _, preds = torch.max(outputs, 1)\n",
        "\n",
        "                    if phase == 'train': # Backward + optimize only if in training phase\n",
        "                        loss.backward()\n",
        "                        optimizer.step()\n",
        "\n",
        "                # Statistics\n",
        "                running_loss += loss.item() * inputs.size(0)\n",
        "                running_corrects += torch.sum(preds == labels.data)\n",
        "\n",
        "            epoch_loss = running_loss / len(dataloaders[phase].dataset)\n",
        "\n",
        "            if phase == 'val': # Adjust learning rate based on val loss\n",
        "                lr_scheduler.step(epoch_loss)\n",
        "\n",
        "            epoch_acc = running_corrects.double() / len(dataloaders[phase].dataset)\n",
        "\n",
        "            print('{} Loss: {:.4f} Acc: {:.4f}'.format(phase, epoch_loss, epoch_acc))\n",
        "\n",
        "            # deep copy the model\n",
        "            if phase == 'val' and epoch_acc > best_acc:\n",
        "                best_acc = epoch_acc\n",
        "                best_model_wts = copy.deepcopy(model.state_dict())\n",
        "            if phase == 'val':\n",
        "                val_acc_history.append(epoch_acc)\n",
        "\n",
        "        print()\n",
        "\n",
        "    time_elapsed = time.time() - since\n",
        "    print('Training complete in {:.0f}m {:.0f}s'.format(time_elapsed // 60, time_elapsed % 60))\n",
        "    print('Best val Acc: {:4f}'.format(best_acc))\n",
        "\n",
        "    # load best model weights\n",
        "    model.load_state_dict(best_model_wts)\n",
        "    return model, val_acc_history"
      ],
      "metadata": {
        "id": "_EtS9F5hd8xf"
      },
      "execution_count": 12,
      "outputs": []
    },
    {
      "cell_type": "code",
      "source": [
        "model, _ = train_model(model, {\"train\": train_dataloader, \"val\": test_dataloader}, criterion, optimizer, epochs)"
      ],
      "metadata": {
        "colab": {
          "base_uri": "https://localhost:8080/",
          "height": 0
        },
        "id": "PxdFMcl2ed4a",
        "outputId": "ab9e7ca3-0275-4031-a966-c23211886657"
      },
      "execution_count": 15,
      "outputs": [
        {
          "output_type": "stream",
          "name": "stdout",
          "text": [
            "Epoch 0/49\n",
            "----------\n",
            "train Loss: 0.0384 Acc: 0.9862\n",
            "val Loss: 0.2983 Acc: 0.9248\n",
            "\n",
            "Epoch 1/49\n",
            "----------\n",
            "train Loss: 0.0376 Acc: 0.9868\n",
            "val Loss: 0.2965 Acc: 0.9254\n",
            "\n",
            "Epoch 2/49\n",
            "----------\n",
            "train Loss: 0.0349 Acc: 0.9879\n",
            "val Loss: 0.3277 Acc: 0.9195\n",
            "\n",
            "Epoch 3/49\n",
            "----------\n",
            "train Loss: 0.0299 Acc: 0.9896\n",
            "val Loss: 0.3019 Acc: 0.9230\n",
            "\n",
            "Epoch 4/49\n",
            "----------\n",
            "train Loss: 0.0269 Acc: 0.9901\n",
            "val Loss: 0.2996 Acc: 0.9264\n",
            "\n",
            "Epoch 5/49\n",
            "----------\n",
            "train Loss: 0.0258 Acc: 0.9907\n",
            "val Loss: 0.3225 Acc: 0.9235\n",
            "\n",
            "Epoch 6/49\n",
            "----------\n",
            "train Loss: 0.0253 Acc: 0.9912\n",
            "val Loss: 0.3818 Acc: 0.9080\n",
            "\n",
            "Epoch 7/49\n",
            "----------\n",
            "train Loss: 0.0239 Acc: 0.9918\n",
            "Epoch 00008: reducing learning rate of group 0 to 1.0000e-05.\n",
            "val Loss: 0.4219 Acc: 0.9087\n",
            "\n",
            "Epoch 8/49\n",
            "----------\n",
            "train Loss: 0.0071 Acc: 0.9984\n",
            "val Loss: 0.2847 Acc: 0.9357\n",
            "\n",
            "Epoch 9/49\n",
            "----------\n",
            "train Loss: 0.0020 Acc: 0.9999\n",
            "val Loss: 0.2936 Acc: 0.9371\n",
            "\n",
            "Epoch 10/49\n",
            "----------\n",
            "train Loss: 0.0011 Acc: 1.0000\n",
            "val Loss: 0.3080 Acc: 0.9370\n",
            "\n",
            "Epoch 11/49\n",
            "----------\n",
            "train Loss: 0.0007 Acc: 1.0000\n",
            "val Loss: 0.3207 Acc: 0.9363\n",
            "\n",
            "Epoch 12/49\n",
            "----------\n",
            "train Loss: 0.0005 Acc: 1.0000\n",
            "val Loss: 0.3265 Acc: 0.9361\n",
            "\n",
            "Epoch 13/49\n",
            "----------\n",
            "train Loss: 0.0004 Acc: 1.0000\n",
            "val Loss: 0.3345 Acc: 0.9371\n",
            "\n",
            "Epoch 14/49\n",
            "----------\n",
            "train Loss: 0.0005 Acc: 0.9999\n",
            "Epoch 00015: reducing learning rate of group 0 to 1.0000e-06.\n",
            "val Loss: 0.3543 Acc: 0.9366\n",
            "\n",
            "Epoch 15/49\n",
            "----------\n",
            "train Loss: 0.0003 Acc: 1.0000\n",
            "val Loss: 0.3469 Acc: 0.9364\n",
            "\n",
            "Epoch 16/49\n",
            "----------\n",
            "train Loss: 0.0002 Acc: 1.0000\n",
            "val Loss: 0.3499 Acc: 0.9375\n",
            "\n",
            "Epoch 17/49\n",
            "----------\n",
            "train Loss: 0.0002 Acc: 1.0000\n",
            "val Loss: 0.3487 Acc: 0.9370\n",
            "\n",
            "Epoch 18/49\n",
            "----------\n",
            "train Loss: 0.0002 Acc: 1.0000\n",
            "val Loss: 0.3457 Acc: 0.9370\n",
            "\n",
            "Epoch 19/49\n",
            "----------\n",
            "train Loss: 0.0002 Acc: 1.0000\n",
            "val Loss: 0.3555 Acc: 0.9372\n",
            "\n",
            "Epoch 20/49\n",
            "----------\n",
            "train Loss: 0.0001 Acc: 1.0000\n",
            "Epoch 00021: reducing learning rate of group 0 to 1.0000e-07.\n",
            "val Loss: 0.3518 Acc: 0.9372\n",
            "\n",
            "Epoch 21/49\n",
            "----------\n",
            "train Loss: 0.0001 Acc: 1.0000\n",
            "val Loss: 0.3552 Acc: 0.9380\n",
            "\n",
            "Epoch 22/49\n",
            "----------\n",
            "train Loss: 0.0001 Acc: 1.0000\n",
            "val Loss: 0.3538 Acc: 0.9384\n",
            "\n",
            "Epoch 23/49\n",
            "----------\n",
            "train Loss: 0.0001 Acc: 1.0000\n",
            "val Loss: 0.3498 Acc: 0.9369\n",
            "\n",
            "Epoch 24/49\n",
            "----------\n",
            "train Loss: 0.0001 Acc: 1.0000\n",
            "val Loss: 0.3530 Acc: 0.9362\n",
            "\n",
            "Epoch 25/49\n",
            "----------\n",
            "train Loss: 0.0001 Acc: 1.0000\n",
            "val Loss: 0.3525 Acc: 0.9366\n",
            "\n",
            "Epoch 26/49\n",
            "----------\n",
            "train Loss: 0.0001 Acc: 1.0000\n",
            "Epoch 00027: reducing learning rate of group 0 to 1.0000e-08.\n",
            "val Loss: 0.3518 Acc: 0.9378\n",
            "\n",
            "Epoch 27/49\n",
            "----------\n",
            "train Loss: 0.0001 Acc: 1.0000\n",
            "val Loss: 0.3566 Acc: 0.9378\n",
            "\n",
            "Epoch 28/49\n",
            "----------\n",
            "train Loss: 0.0001 Acc: 1.0000\n",
            "val Loss: 0.3520 Acc: 0.9371\n",
            "\n",
            "Epoch 29/49\n",
            "----------\n",
            "train Loss: 0.0001 Acc: 1.0000\n",
            "val Loss: 0.3551 Acc: 0.9381\n",
            "\n",
            "Epoch 30/49\n",
            "----------\n",
            "train Loss: 0.0001 Acc: 1.0000\n",
            "val Loss: 0.3498 Acc: 0.9371\n",
            "\n",
            "Epoch 31/49\n",
            "----------\n",
            "train Loss: 0.0001 Acc: 1.0000\n",
            "val Loss: 0.3526 Acc: 0.9368\n",
            "\n",
            "Epoch 32/49\n",
            "----------\n",
            "train Loss: 0.0001 Acc: 1.0000\n",
            "val Loss: 0.3546 Acc: 0.9382\n",
            "\n",
            "Epoch 33/49\n",
            "----------\n",
            "train Loss: 0.0001 Acc: 1.0000\n",
            "val Loss: 0.3598 Acc: 0.9364\n",
            "\n",
            "Epoch 34/49\n",
            "----------\n",
            "train Loss: 0.0001 Acc: 1.0000\n",
            "val Loss: 0.3538 Acc: 0.9373\n",
            "\n",
            "Epoch 35/49\n",
            "----------\n",
            "train Loss: 0.0001 Acc: 1.0000\n",
            "val Loss: 0.3511 Acc: 0.9360\n",
            "\n",
            "Epoch 36/49\n",
            "----------\n",
            "train Loss: 0.0001 Acc: 1.0000\n",
            "val Loss: 0.3581 Acc: 0.9369\n",
            "\n",
            "Epoch 37/49\n",
            "----------\n",
            "train Loss: 0.0001 Acc: 1.0000\n",
            "val Loss: 0.3552 Acc: 0.9371\n",
            "\n",
            "Epoch 38/49\n",
            "----------\n",
            "train Loss: 0.0001 Acc: 1.0000\n",
            "val Loss: 0.3530 Acc: 0.9374\n",
            "\n",
            "Epoch 39/49\n",
            "----------\n",
            "train Loss: 0.0001 Acc: 1.0000\n",
            "val Loss: 0.3517 Acc: 0.9371\n",
            "\n",
            "Epoch 40/49\n",
            "----------\n",
            "train Loss: 0.0001 Acc: 1.0000\n",
            "val Loss: 0.3579 Acc: 0.9370\n",
            "\n",
            "Epoch 41/49\n",
            "----------\n",
            "train Loss: 0.0001 Acc: 1.0000\n",
            "val Loss: 0.3590 Acc: 0.9360\n",
            "\n",
            "Epoch 42/49\n",
            "----------\n",
            "train Loss: 0.0001 Acc: 1.0000\n",
            "val Loss: 0.3522 Acc: 0.9367\n",
            "\n",
            "Epoch 43/49\n",
            "----------\n",
            "train Loss: 0.0001 Acc: 1.0000\n",
            "val Loss: 0.3540 Acc: 0.9368\n",
            "\n",
            "Epoch 44/49\n",
            "----------\n",
            "train Loss: 0.0001 Acc: 1.0000\n",
            "val Loss: 0.3547 Acc: 0.9367\n",
            "\n",
            "Epoch 45/49\n",
            "----------\n",
            "train Loss: 0.0001 Acc: 1.0000\n",
            "val Loss: 0.3544 Acc: 0.9378\n",
            "\n",
            "Epoch 46/49\n",
            "----------\n",
            "train Loss: 0.0001 Acc: 1.0000\n",
            "val Loss: 0.3521 Acc: 0.9382\n",
            "\n",
            "Epoch 47/49\n",
            "----------\n",
            "train Loss: 0.0001 Acc: 1.0000\n",
            "val Loss: 0.3558 Acc: 0.9369\n",
            "\n",
            "Epoch 48/49\n",
            "----------\n",
            "train Loss: 0.0001 Acc: 1.0000\n",
            "val Loss: 0.3553 Acc: 0.9378\n",
            "\n",
            "Epoch 49/49\n",
            "----------\n",
            "train Loss: 0.0001 Acc: 1.0000\n",
            "val Loss: 0.3552 Acc: 0.9368\n",
            "\n",
            "Training complete in 60m 57s\n",
            "Best val Acc: 0.938400\n"
          ]
        }
      ]
    },
    {
      "cell_type": "code",
      "source": [
        "#resultados obtidos com 15 epochs:\n",
        "  # train Loss: 0.3492 Acc: 0.8729\n",
        "  # val Loss: 0.2519 Acc: 0.9104\n",
        "\n",
        "  # Epoch 1/14\n",
        "  # ----------\n",
        "  # train Loss: 0.2206 Acc: 0.9196\n",
        "  # val Loss: 0.2230 Acc: 0.9202\n",
        "\n",
        "  # Epoch 2/14\n",
        "  # ----------\n",
        "  # train Loss: 0.1783 Acc: 0.9354\n",
        "  # val Loss: 0.2832 Acc: 0.8996\n",
        "\n",
        "  # Epoch 3/14\n",
        "  # ----------\n",
        "  # train Loss: 0.1480 Acc: 0.9454\n",
        "  # val Loss: 0.2175 Acc: 0.9245\n",
        "\n",
        "  # Epoch 4/14\n",
        "  # ----------\n",
        "  # train Loss: 0.1199 Acc: 0.9562\n",
        "  # val Loss: 0.2296 Acc: 0.9231\n",
        "\n",
        "  # Epoch 5/14\n",
        "  # ----------\n",
        "  # train Loss: 0.0972 Acc: 0.9636\n",
        "  # val Loss: 0.3085 Acc: 0.9023\n",
        "\n",
        "  # Epoch 6/14\n",
        "  # ----------\n",
        "  # train Loss: 0.0782 Acc: 0.9713\n",
        "  # val Loss: 0.2418 Acc: 0.9269\n",
        "\n",
        "  # Epoch 7/14\n",
        "  # ----------\n",
        "  # train Loss: 0.0646 Acc: 0.9765\n",
        "  # val Loss: 0.3188 Acc: 0.9095\n",
        "\n",
        "  # Epoch 8/14\n",
        "  # ----------\n",
        "  # train Loss: 0.0519 Acc: 0.9810\n",
        "  # val Loss: 0.3189 Acc: 0.9141\n",
        "\n",
        "  # Epoch 9/14\n",
        "  # ----------\n",
        "  # train Loss: 0.0480 Acc: 0.9831\n",
        "  # Epoch 00010: reducing learning rate of group 0 to 1.0000e-05.\n",
        "  # val Loss: 0.2605 Acc: 0.9276\n",
        "\n",
        "  # Epoch 10/14\n",
        "  # ----------\n",
        "  # train Loss: 0.0140 Acc: 0.9963\n",
        "  # val Loss: 0.2478 Acc: 0.9370\n",
        "\n",
        "  # Epoch 11/14\n",
        "  # ----------\n",
        "  # train Loss: 0.0043 Acc: 0.9996\n",
        "  # val Loss: 0.2650 Acc: 0.9381\n",
        "\n",
        "  # Epoch 12/14\n",
        "  # ----------\n",
        "  # train Loss: 0.0022 Acc: 0.9999\n",
        "  # val Loss: 0.2791 Acc: 0.9391\n",
        "\n",
        "  # Epoch 13/14\n",
        "  # ----------\n",
        "  # train Loss: 0.0015 Acc: 0.9999\n",
        "  # val Loss: 0.3003 Acc: 0.9367\n",
        "\n",
        "  # Epoch 14/14\n",
        "  # ----------\n",
        "  # train Loss: 0.0009 Acc: 1.0000\n",
        "  # val Loss: 0.3140 Acc: 0.9359\n",
        "\n",
        "  # Training complete in 18m 22s\n",
        "  # Best val Acc: 0.939100\n",
        "\n",
        "\n",
        "#Proxima tentativa com 50 epochs..."
      ],
      "metadata": {
        "id": "Uhomx2LSK3Xl"
      },
      "execution_count": null,
      "outputs": []
    },
    {
      "cell_type": "markdown",
      "source": [
        "## Conclusão\n",
        "\n",
        "Ao comparar a **resnet 18** feita aqui com outros classificadores disponíveis no [benchmark](https://github.com/zalandoresearch/fashion-mnist), o modelo se sai muito bem, apesar de ter classificadores apresentados com uma quantidade muito menor de parâmetros (~100K) que tiveram mesma ou melhor acurácia que a resnet, já que ela é uma rede mais profunda, que pode ser usada para uma gama maior de problemas e classificações.\n",
        "\n",
        "Quanto ao treinamento da rede, apenas 15 *epochs* parece ser suficiente para obter uma boa acurácia sem gastar tanto tempo de compilação, a acurácia fica estagnada quando chega próxima aos $94\\%$.\n"
      ],
      "metadata": {
        "id": "STtfRDXcVeiT"
      }
    },
    {
      "cell_type": "markdown",
      "source": [
        "## Referências e links usados neste Notebook\n",
        "\n",
        "\n",
        "*  https://www.kaggle.com/code/ivankunyankin/resnet18-from-scratch-using-pytorch\n",
        "\n",
        "*  https://pytorch.org/tutorials/beginner/basics/buildmodel_tutorial.html\n",
        "\n",
        "*  https://pytorch.org/tutorials/beginner/basics/data_tutorial.html#loading-a-dataset\n",
        "\n",
        "*  https://github.com/zalandoresearch/fashion-mnist\n",
        "\n",
        "*  https://machinelearningmastery.com/how-to-develop-a-cnn-from-scratch-for-fashion-mnist-clothing-classification/"
      ],
      "metadata": {
        "id": "jcs6HcnS8DoB"
      }
    },
    {
      "cell_type": "markdown",
      "source": [],
      "metadata": {
        "id": "wz01jT0cBga7"
      }
    }
  ]
}